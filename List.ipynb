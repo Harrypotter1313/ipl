{
  "nbformat": 4,
  "nbformat_minor": 0,
  "metadata": {
    "colab": {
      "provenance": []
    },
    "kernelspec": {
      "name": "python3",
      "display_name": "Python 3"
    },
    "language_info": {
      "name": "python"
    }
  },
  "cells": [
    {
      "cell_type": "code",
      "metadata": {
        "colab": {
          "base_uri": "https://localhost:8080/"
        },
        "id": "4r3yckR3xb_r",
        "outputId": "11ddde6f-6a72-4c7a-f59f-30accb079911"
      },
      "source": [
        "#Empty List Way1\n",
        "L=[]\n",
        "print(L)"
      ],
      "execution_count": null,
      "outputs": [
        {
          "output_type": "stream",
          "name": "stdout",
          "text": [
            "[]\n"
          ]
        }
      ]
    },
    {
      "cell_type": "code",
      "source": [],
      "metadata": {
        "id": "0njP6Odk37zD"
      },
      "execution_count": null,
      "outputs": []
    },
    {
      "cell_type": "markdown",
      "metadata": {
        "id": "KA3DYfsDw-at"
      },
      "source": [
        "#Python List\n",
        "A list is a sequence of values (similar to an array in other programming languages but more versatile)\n",
        "\n",
        "The values in a list are called items or sometimes elements.\n",
        "\n",
        "The important properties of Python lists are as follows:\n",
        "\n",
        "1.Lists are ordered – Lists remember the order of items inserted.\n",
        "2.Accessed by index – Items in a list can be accessed using an index.\n",
        "3.Lists can contain any sort of object – It can be numbers, strings, tuples and even other lists.\n",
        "4.Lists are changeable (mutable) – You can change a list in-place, add new items, and delete or update existing items.\n",
        "#Create a List\n",
        "There are several ways to create a new list; the simplest is to enclose the values in square brackets []"
      ]
    },
    {
      "cell_type": "code",
      "metadata": {
        "colab": {
          "base_uri": "https://localhost:8080/"
        },
        "id": "fKwdfPQBxn_K",
        "outputId": "e57645a9-538f-4a86-fa3c-19aa5f9eb5e3"
      },
      "source": [
        "#Empty List Way2\n",
        "#The list() Constructor\n",
        "#You can convert other data types to lists using Python’s list() constructor.\n",
        "L=list()\n",
        "print(L)"
      ],
      "execution_count": null,
      "outputs": [
        {
          "output_type": "stream",
          "name": "stdout",
          "text": [
            "[]\n"
          ]
        }
      ]
    },
    {
      "cell_type": "code",
      "metadata": {
        "colab": {
          "base_uri": "https://localhost:8080/"
        },
        "id": "QsP4vgkoxuSd",
        "outputId": "d2c74aab-efd3-43f9-bdd7-1c2a474a8613"
      },
      "source": [
        "# A list of integers\n",
        "L = [1, 2, 3]\n",
        "print(L)\n",
        "\n",
        "# A list of strings\n",
        "L = ['red', 'green', 'blue']\n",
        "print(L)"
      ],
      "execution_count": null,
      "outputs": [
        {
          "output_type": "stream",
          "name": "stdout",
          "text": [
            "[1, 2, 3]\n",
            "['red', 'green', 'blue']\n"
          ]
        }
      ]
    },
    {
      "cell_type": "code",
      "metadata": {
        "colab": {
          "base_uri": "https://localhost:8080/"
        },
        "id": "gxNBVtrPx3Tb",
        "outputId": "5f733a2f-6339-4cd2-9dbd-814161797115"
      },
      "source": [
        "ji#The items of a list don’t have to be the same type. The following list contains an integer, a string, a float, a complex number, and a boolean.\n",
        "\n",
        "# A list of mixed datatypes\n",
        "L = [ 1, 'abc', 1.23, (3+4j), True]\n",
        "print(L)"
      ],
      "execution_count": null,
      "outputs": [
        {
          "output_type": "stream",
          "name": "stdout",
          "text": [
            "[1, 'abc', 1.23, (3+4j), True]\n"
          ]
        }
      ]
    },
    {
      "cell_type": "code",
      "metadata": {
        "colab": {
          "base_uri": "https://localhost:8080/"
        },
        "id": "yVe-XYwCyEWZ",
        "outputId": "6ddefd3e-f1bc-4ac1-d8da-86e6d7d0209f"
      },
      "source": [
        "# Convert a string to a list\n",
        "L = list('abc')\n",
        "print(L)\n",
        "# Prints ['a', 'b', 'c']\n",
        "# Convert a tuple to a list\n",
        "L = list((1,2,3))\n",
        "print(L)\n",
        "# Prints [1, 2, 3]"
      ],
      "execution_count": null,
      "outputs": [
        {
          "output_type": "stream",
          "name": "stdout",
          "text": [
            "['a', 'b', 'c']\n",
            "[1, 2, 3]\n"
          ]
        }
      ]
    },
    {
      "cell_type": "markdown",
      "metadata": {
        "id": "Q1XjjXTMzMhk"
      },
      "source": [
        "#Nested List\n",
        "A list can contain sublists, which in turn can contain sublists themselves, and so on. This is known as nested list.\n",
        "\n",
        "You can use them to arrange data into hierarchical structures.\n"
      ]
    },
    {
      "cell_type": "code",
      "metadata": {
        "colab": {
          "base_uri": "https://localhost:8080/"
        },
        "id": "qTAghNaBzO0s",
        "outputId": "269b92dd-b205-44fd-9946-59f2b9e6766f"
      },
      "source": [
        "\n",
        "L = ['a', ['bb', ['ccc', 'ddd'], 'ee', 'ff'], 'g', 'h']\n",
        "print(L)"
      ],
      "execution_count": null,
      "outputs": [
        {
          "output_type": "stream",
          "name": "stdout",
          "text": [
            "['a', ['bb', ['ccc', 'ddd'], 'ee', 'ff'], 'g', 'h']\n"
          ]
        }
      ]
    },
    {
      "cell_type": "markdown",
      "metadata": {
        "id": "o7Z9dLD4zumL"
      },
      "source": [
        "#Python Nested List\n",
        "A list can contain any sort object, even another list (sublist), which in turn can contain sublists themselves, and so on. This is known as nested list.\n",
        "\n",
        "You can use them to arrange data into hierarchical structures.\n",
        "\n",
        "Create a Nested List\n",
        "A nested list is created by placing a comma-separated sequence of sublists.\n",
        "\n",
        "L = ['a', ['bb', ['ccc', 'ddd'], 'ee', 'ff'], 'g', 'h']\n",
        "Access Nested List Items by Index\n",
        "You can access individual items in a nested list using multiple indexes.\n",
        "\n",
        "The indexes for the items in a nested list are illustrated as below:\n",
        "\n"
      ]
    },
    {
      "cell_type": "markdown",
      "metadata": {
        "id": "BAtluPuv6YRS"
      },
      "source": [
        "![1.PNG](data:image/png;base64,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)"
      ]
    },
    {
      "cell_type": "markdown",
      "metadata": {
        "id": "ZHC65bdM6ciM"
      },
      "source": []
    },
    {
      "cell_type": "code",
      "metadata": {
        "id": "DLpgzo2k55Ch",
        "colab": {
          "base_uri": "https://localhost:8080/"
        },
        "outputId": "e08eec34-8b67-4e6c-fd58-523351a49c8b"
      },
      "source": [
        "L = ['a', 'b', ['cc', 'dd', ['eee', 'fff']], 'g', 'h']\n",
        "\n",
        "print(L[2])\n",
        "# Prints ['cc', 'dd', ['eee', 'fff']]\n",
        "\n",
        "print(L[2][2])\n",
        "# Prints ['eee', 'fff']\n",
        "\n",
        "print(L[2][2][0])\n",
        "# Prints eee"
      ],
      "execution_count": null,
      "outputs": [
        {
          "output_type": "stream",
          "name": "stdout",
          "text": [
            "['cc', 'dd', ['eee', 'fff']]\n",
            "['eee', 'fff']\n",
            "eee\n"
          ]
        }
      ]
    },
    {
      "cell_type": "markdown",
      "metadata": {
        "id": "07xBbJSH7Woa"
      },
      "source": [
        "Negative List Indexing In a Nested List\n",
        "You can access a nested list by negative indexing as well.\n",
        "\n",
        "Negative indexes count backward from the end of the list. So, L[-1] refers to the last item, L[-2] is the second-last, and so on.\n",
        "\n",
        "The negative indexes for the items in a nested list are illustrated as below:\n",
        "![1.PNG](data:image/png;base64,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)"
      ]
    },
    {
      "cell_type": "code",
      "metadata": {
        "colab": {
          "base_uri": "https://localhost:8080/"
        },
        "id": "mjZ96YV-7jj7",
        "outputId": "3ebd38e8-94cc-45af-c688-a3d833c492f4"
      },
      "source": [
        "L = ['a', 'b', ['cc', 'dd', ['eee', 'fff']], 'g', 'h']\n",
        "\n",
        "print(L[-3])\n",
        "# Prints ['cc', 'dd', ['eee', 'fff']]\n",
        "\n",
        "print(L[-3][-1])\n",
        "# Prints ['eee', 'fff']\n",
        "\n",
        "print(L[-3][-1][-2])\n",
        "# Prints eee"
      ],
      "execution_count": null,
      "outputs": [
        {
          "output_type": "stream",
          "name": "stdout",
          "text": [
            "['cc', 'dd', ['eee', 'fff']]\n",
            "['eee', 'fff']\n",
            "eee\n"
          ]
        }
      ]
    },
    {
      "cell_type": "markdown",
      "metadata": {
        "id": "HH4gNy1e7qZ_"
      },
      "source": [
        "#Change Nested List Item Value\n",
        "You can change the value of a specific item in a nested list by referring to its index number."
      ]
    },
    {
      "cell_type": "code",
      "metadata": {
        "colab": {
          "base_uri": "https://localhost:8080/"
        },
        "id": "BhogywNR7uii",
        "outputId": "6a487b7d-cd0e-4b1e-e8e3-c723a3f20479"
      },
      "source": [
        "L = ['a', ['bb', 'cc'], 'd']\n",
        "L[1][1] = 0\n",
        "print(L)\n",
        "# Prints ['a', ['bb', 0], 'd']"
      ],
      "execution_count": null,
      "outputs": [
        {
          "output_type": "stream",
          "name": "stdout",
          "text": [
            "['a', ['bb', 0], 'd']\n"
          ]
        }
      ]
    },
    {
      "cell_type": "markdown",
      "metadata": {
        "id": "ZWVjXvDT7yUV"
      },
      "source": [
        "#Add items to a Nested list\n",
        "To add new values to the end of the nested list, use append() method.\n"
      ]
    },
    {
      "cell_type": "code",
      "metadata": {
        "colab": {
          "base_uri": "https://localhost:8080/"
        },
        "id": "eI2iK2tn73A4",
        "outputId": "634bebd3-c313-46b6-be11-891540eea75f"
      },
      "source": [
        "L = ['a',['bb','cc'],'d']\n",
        "L[1].append('xx')\n",
        "print(L)\n",
        "# Prints['a',['bb',cc','xx'],'d']"
      ],
      "execution_count": null,
      "outputs": [
        {
          "output_type": "stream",
          "name": "stdout",
          "text": [
            "['a', ['bb', 'cc', 'xx'], 'd']\n"
          ]
        }
      ]
    },
    {
      "cell_type": "markdown",
      "metadata": {
        "id": "yNt7_iF377Gy"
      },
      "source": [
        "When you want to insert an item at a specific position in a nested list, use insert() method."
      ]
    },
    {
      "cell_type": "code",
      "metadata": {
        "id": "xNrV28DE7-bQ",
        "outputId": "7c9322b3-b5ab-41c7-9b21-a850ca661c70",
        "colab": {
          "base_uri": "https://localhost:8080/"
        }
      },
      "source": [
        "L = ['a', ['bb', 'cc'], 'd']\n",
        "L[1].insert(0,'xx')\n",
        "print(L)\n",
        "# Prints ['a', ['xx', 'bb', 'cc'], 'd']"
      ],
      "execution_count": null,
      "outputs": [
        {
          "output_type": "stream",
          "name": "stdout",
          "text": [
            "['a', ['xx', 'bb', 'cc'], 'd']\n"
          ]
        }
      ]
    },
    {
      "cell_type": "code",
      "source": [
        "a=[1,2,3,4,5,6,7,8,9]\n",
        "b=a.pop(5)\n",
        "c=a.pop()\n",
        "d=a.pop(-1)\n",
        "print(b)\n",
        "print(c)\n",
        "print(d)\n"
      ],
      "metadata": {
        "id": "Xw58X3ft39Q-"
      },
      "execution_count": null,
      "outputs": []
    }
  ]
}